{
 "cells": [
  {
   "cell_type": "code",
   "execution_count": 1,
   "metadata": {},
   "outputs": [],
   "source": [
    "from __future__ import unicode_literals, print_function, division\n",
    "from io import open\n",
    "import glob\n",
    "import os\n",
    "import unicodedata\n",
    "import string\n"
   ]
  },
  {
   "cell_type": "code",
   "execution_count": 2,
   "metadata": {},
   "outputs": [],
   "source": [
    "all_letters = string.ascii_letters + \" .,;'-\"\n",
    "n_letters = len(all_letters) + 1 #1 extra for eol marker\n"
   ]
  },
  {
   "cell_type": "code",
   "execution_count": 3,
   "metadata": {},
   "outputs": [],
   "source": [
    "def findFiles(path): return glob.glob(path)\n",
    "\n",
    "def unicodeToAscii(s):\n",
    "    return ''.join(\n",
    "        c for c in unicodedata.normalize('NFD', s)\n",
    "        if unicodedata.category(c) != 'Mn'\n",
    "        and c in all_letters\n",
    "    )\n"
   ]
  },
  {
   "cell_type": "code",
   "execution_count": 4,
   "metadata": {},
   "outputs": [],
   "source": [
    "def readLines(filename):\n",
    "    lines = open(filename, encoding='utf-8').read().strip().split('\\n')\n",
    "    return [unicodeToAscii(line) for line in lines]\n"
   ]
  },
  {
   "cell_type": "code",
   "execution_count": 5,
   "metadata": {},
   "outputs": [
    {
     "name": "stdout",
     "output_type": "stream",
     "text": [
      "kkk\n"
     ]
    }
   ],
   "source": [
    "print(unicodeToAscii('k$$%kk'))"
   ]
  },
  {
   "cell_type": "code",
   "execution_count": 6,
   "metadata": {},
   "outputs": [],
   "source": [
    "category_lines = {}\n",
    "all_categories = []\n",
    "for filename in findFiles('data/names/*.txt'):\n",
    "    category = os.path.splitext(os.path.basename(filename))[0]\n",
    "    all_categories.append(category)\n",
    "    lines = readLines(filename)\n",
    "    category_lines[category] = lines\n",
    "\n",
    "n_categories = len(all_categories)\n"
   ]
  },
  {
   "cell_type": "code",
   "execution_count": 7,
   "metadata": {},
   "outputs": [
    {
     "name": "stdout",
     "output_type": "stream",
     "text": [
      "18 ['Greek', 'Irish', 'Chinese', 'Arabic', 'French', 'Vietnamese', 'Japanese', 'English', 'Scottish', 'Polish', 'Korean', 'Italian', 'Czech', 'German', 'Portuguese', 'Russian', 'Spanish', 'Dutch']\n"
     ]
    }
   ],
   "source": [
    "print(n_categories,all_categories)"
   ]
  },
  {
   "cell_type": "code",
   "execution_count": 8,
   "metadata": {},
   "outputs": [
    {
     "data": {
      "text/plain": [
       "['Adamidis',\n",
       " 'Adamou',\n",
       " 'Agelakos',\n",
       " 'Akrivopoulos',\n",
       " 'Alexandropoulos',\n",
       " 'Anetakis',\n",
       " 'Angelopoulos',\n",
       " 'Antimisiaris',\n",
       " 'Antipas',\n",
       " 'Antonakos',\n",
       " 'Antoniadis',\n",
       " 'Antonopoulos',\n",
       " 'Antonopoulos',\n",
       " 'Antonopoulos',\n",
       " 'Arvanitoyannis',\n",
       " 'Avgerinos',\n",
       " 'Banos',\n",
       " 'Batsakis',\n",
       " 'Bekyros',\n",
       " 'Belesis',\n",
       " 'Bertsimas',\n",
       " 'Bilias',\n",
       " 'Blades',\n",
       " 'Bouloukos',\n",
       " 'Brisimitzakis',\n",
       " 'Bursinos',\n",
       " 'Calogerakis',\n",
       " 'Calpis',\n",
       " 'Chellos',\n",
       " 'Christakos',\n",
       " 'Christodoulou',\n",
       " 'Christou',\n",
       " 'Chrysanthopoulos',\n",
       " 'Chrysanthopoulos',\n",
       " 'Comino',\n",
       " 'Close',\n",
       " 'Close',\n",
       " 'Close',\n",
       " 'Close',\n",
       " 'Close',\n",
       " 'Close',\n",
       " 'Close',\n",
       " 'Close',\n",
       " 'Dalianis',\n",
       " 'Danas',\n",
       " 'Dasios',\n",
       " 'Demakis',\n",
       " 'Demarchis',\n",
       " 'Demas',\n",
       " 'Demetrious',\n",
       " 'Dertilis',\n",
       " 'Diakogeorgiou',\n",
       " 'Dioletis',\n",
       " 'Dounias',\n",
       " 'Dritsas',\n",
       " 'Drivakis',\n",
       " 'Eatros',\n",
       " 'Egonidis',\n",
       " 'Eliopoulos',\n",
       " 'Forakis',\n",
       " 'Fotopoulos',\n",
       " 'Fourakis',\n",
       " 'Frangopoulos',\n",
       " 'Galanopoulos',\n",
       " 'Garofalis',\n",
       " 'Gavril',\n",
       " 'Gavrilopoulos',\n",
       " 'Georgeakopoulos',\n",
       " 'Geracimos',\n",
       " 'Gianakopulos',\n",
       " 'Giannakopoulos',\n",
       " 'Giannakos',\n",
       " 'Glynatsis',\n",
       " 'Gomatos',\n",
       " 'Grammatakakis',\n",
       " 'Gravari',\n",
       " 'Hadjiyianakies',\n",
       " 'Hagias',\n",
       " 'Haritopoulos',\n",
       " 'Honjas',\n",
       " 'Horiatis',\n",
       " 'Houlis',\n",
       " 'Jamussa',\n",
       " 'Kaglantge',\n",
       " 'Kalakos',\n",
       " 'Kalogeria',\n",
       " 'Kaloxylos',\n",
       " 'Kanavos',\n",
       " 'Kapsimalles',\n",
       " 'Karahalios',\n",
       " 'Karameros',\n",
       " 'Karkampasis',\n",
       " 'Karnoupakis',\n",
       " 'Katsourinis',\n",
       " 'Kefalas',\n",
       " 'Kokkali',\n",
       " 'Kokoris',\n",
       " 'Kolovos',\n",
       " 'Konstantatos',\n",
       " 'Kosmas',\n",
       " 'Kotsilimbas',\n",
       " 'Kotsiopoulos',\n",
       " 'Kouches',\n",
       " 'Koulaxizis',\n",
       " 'Koumanidis',\n",
       " 'Kourempes',\n",
       " 'Kouretas',\n",
       " 'Kouropoulos',\n",
       " 'Kouros',\n",
       " 'Koustoubos',\n",
       " 'Koutsoubos',\n",
       " 'Kreskas',\n",
       " 'Kringos',\n",
       " 'Kyritsis',\n",
       " 'Laganas',\n",
       " 'Leontarakis',\n",
       " 'Letsos',\n",
       " 'Liatos',\n",
       " 'Lillis',\n",
       " 'Lolos',\n",
       " 'Louverdis',\n",
       " 'Makricosta',\n",
       " 'Malihoudis',\n",
       " 'Maneates',\n",
       " 'Manos',\n",
       " 'Manoukarakis',\n",
       " 'Matsoukis',\n",
       " 'Mentis',\n",
       " 'Mersinias',\n",
       " 'Metrofanis',\n",
       " 'Michalaras',\n",
       " 'Milionis',\n",
       " 'Missiakos',\n",
       " 'Moraitopoulos',\n",
       " 'Nikolaou',\n",
       " 'Nomikos',\n",
       " 'Paitakes',\n",
       " 'Paloumbas',\n",
       " 'Panayiotopoulos',\n",
       " 'Panoulias',\n",
       " 'Pantelakos',\n",
       " 'Pantelas',\n",
       " 'Papadelias',\n",
       " 'Papadopulos',\n",
       " 'Papageorge',\n",
       " 'Papoutsis',\n",
       " 'Pappayiorgas',\n",
       " 'Paraskevopoulos',\n",
       " 'Paraskos',\n",
       " 'Paschalis',\n",
       " 'Patrianakos',\n",
       " 'Patselas',\n",
       " 'Pefanis',\n",
       " 'Petimezas',\n",
       " 'Petrakis',\n",
       " 'Pezos',\n",
       " 'Phocas',\n",
       " 'Pispinis',\n",
       " 'Polites',\n",
       " 'Polymenakou',\n",
       " 'Poniros',\n",
       " 'Protopsaltis',\n",
       " 'Rallis',\n",
       " 'Rigatos',\n",
       " 'Rorris',\n",
       " 'Rousses',\n",
       " 'Ruvelas',\n",
       " 'Sakelaris',\n",
       " 'Sakellariou',\n",
       " 'Samios',\n",
       " 'Sardelis',\n",
       " 'Sfakianos',\n",
       " 'Sklavenitis',\n",
       " 'Sortras',\n",
       " 'Sotiris',\n",
       " 'Spyridis',\n",
       " 'Stamatas',\n",
       " 'Stamatelos',\n",
       " 'Stavropoulos',\n",
       " 'Strilakos',\n",
       " 'Stroggylis',\n",
       " 'Tableriou',\n",
       " 'Taflambas',\n",
       " 'Tassioglou',\n",
       " 'Telis',\n",
       " 'Tsoumada',\n",
       " 'Theofilopoulos',\n",
       " 'Theohari',\n",
       " 'Totolos',\n",
       " 'Tourna',\n",
       " 'Tsahalis',\n",
       " 'Tsangaris',\n",
       " 'Tselios',\n",
       " 'Tsogas',\n",
       " 'Vamvakidis',\n",
       " 'Varvitsiotes',\n",
       " 'Vassilikos',\n",
       " 'Vassilopulos',\n",
       " 'Vlahos',\n",
       " 'Vourlis',\n",
       " 'Xydis',\n",
       " 'Zaloumi',\n",
       " 'Zouvelekis']"
      ]
     },
     "execution_count": 8,
     "metadata": {},
     "output_type": "execute_result"
    }
   ],
   "source": [
    "category_lines['Greek']"
   ]
  },
  {
   "cell_type": "code",
   "execution_count": 29,
   "metadata": {},
   "outputs": [],
   "source": [
    "import torch\n",
    "import torch.nn as nn\n",
    "\n",
    "class RNN(nn.Module):\n",
    "    def __init__(self,input_size,hidden_size,output_size):\n",
    "        super(RNN,self).__init__()\n",
    "        \n",
    "        self.hidden_size = hidden_size\n",
    "        self.i2h = nn.Linear(n_categories + input_size + hidden_size,hidden_size)\n",
    "        self.i2o = nn.Linear(n_categories+input_size+hidden_size,output_size)\n",
    "        self.o2o = nn.Linear(hidden_size + output_size,output_size)\n",
    "        self.dropout = nn.Dropout(0.1)\n",
    "        self.softmax = nn.LogSoftmax(dim = 1)\n",
    "    \n",
    "    def forward(self,category,input,hidden):\n",
    "        input_combined = torch.cat((category,input,hidden),1)\n",
    "        hidden = self.i2h(input_combined)\n",
    "        output = self.i2o(input_combined)\n",
    "        \n",
    "        output_combined = torch.cat((hidden,output),1)\n",
    "        output = self.o2o(output_combined)\n",
    "        output = self.dropout(self.softmax(output))\n",
    "        \n",
    "        return output,hidden\n",
    "    \n",
    "    def initHidden(self):\n",
    "        return torch.zeros(1,self.hidden_size)\n",
    "    "
   ]
  },
  {
   "cell_type": "code",
   "execution_count": 30,
   "metadata": {},
   "outputs": [],
   "source": [
    "import random\n",
    "\n",
    "def randomChoice(l):\n",
    "    return l[random.randint(0,len(l)-1)]\n",
    "\n",
    "def randomTrainingPair():\n",
    "    category = randomChoice(all_categories)\n",
    "    line = randomChoice(category_lines[category])\n",
    "    return category,line"
   ]
  },
  {
   "cell_type": "code",
   "execution_count": 31,
   "metadata": {},
   "outputs": [],
   "source": [
    "def categoryTensor(category):\n",
    "    li = all_categories.index(category)\n",
    "    tensor = torch.zeros(1,n_categories)\n",
    "    tensor[0][li] = 1\n",
    "    return tensor\n",
    "\n",
    "def inputTensor(line):\n",
    "    tensor = torch.zeros(len(line),1,n_letters)\n",
    "    for li in range(len(line)):\n",
    "        letter = line[li]\n",
    "        tensor[li][0][all_letters.find(letter)-1] = 1\n",
    "    return tensor\n",
    "\n",
    "def targetTensor(line):\n",
    "    letter_idx = [all_letters.find(line[li]) for li in range(1,len(line))]\n",
    "    letter_idx.append(n_letters-1)\n",
    "    return torch.LongTensor(letter_idx)\n"
   ]
  },
  {
   "cell_type": "code",
   "execution_count": 32,
   "metadata": {},
   "outputs": [
    {
     "name": "stdout",
     "output_type": "stream",
     "text": [
      "tensor([[[0., 0., 0.,  ..., 0., 0., 0.]],\n",
      "\n",
      "        [[0., 0., 0.,  ..., 0., 0., 0.]],\n",
      "\n",
      "        [[0., 0., 0.,  ..., 0., 0., 0.]],\n",
      "\n",
      "        ...,\n",
      "\n",
      "        [[0., 0., 0.,  ..., 0., 0., 0.]],\n",
      "\n",
      "        [[1., 0., 0.,  ..., 0., 0., 0.]],\n",
      "\n",
      "        [[0., 0., 0.,  ..., 0., 0., 0.]]])\n",
      "torch.Size([5, 1, 59])\n",
      "torch.Size([5, 1, 59, 1])\n"
     ]
    }
   ],
   "source": [
    "g = categoryTensor('English')\n",
    "#print(g)\n",
    "h = inputTensor('Hello')\n",
    "#print(h.shape)\n",
    "print(inputTensor('hello there general kenobi'))\n",
    "print(h.shape)\n",
    "print(h.unsqueeze(-1).shape)"
   ]
  },
  {
   "cell_type": "code",
   "execution_count": 33,
   "metadata": {},
   "outputs": [],
   "source": [
    "def randomTrainingExample():\n",
    "    category, line = randomTrainingPair()\n",
    "    category_tensor = categoryTensor(category)\n",
    "    input_line_tensor = inputTensor(line)\n",
    "    target_line_tensor = targetTensor(line)\n",
    "    return category_tensor, input_line_tensor, target_line_tensor\n"
   ]
  },
  {
   "cell_type": "code",
   "execution_count": 34,
   "metadata": {},
   "outputs": [],
   "source": [
    "criterion = nn.NLLLoss()\n",
    "\n",
    "learning_rate = 0.0005\n",
    "\n",
    "def train(category_tensor, input_line_tensor, target_line_tensor):\n",
    "    target_line_tensor.unsqueeze_(-1)\n",
    "    hidden = rnn.initHidden()\n",
    "\n",
    "    rnn.zero_grad()\n",
    "\n",
    "    loss = 0\n",
    "\n",
    "    for i in range(input_line_tensor.size(0)):\n",
    "        output, hidden = rnn(category_tensor, input_line_tensor[i], hidden)\n",
    "        l = criterion(output, target_line_tensor[i])\n",
    "        loss += l\n",
    "\n",
    "    loss.backward()\n",
    "\n",
    "    for p in rnn.parameters():\n",
    "        p.data.add_(-learning_rate, p.grad.data)\n",
    "\n",
    "    return output, loss.item() / input_line_tensor.size(0)\n"
   ]
  },
  {
   "cell_type": "code",
   "execution_count": 35,
   "metadata": {},
   "outputs": [],
   "source": [
    "import time\n",
    "import math\n",
    "\n",
    "def timeSince(since):\n",
    "    now = time.time()\n",
    "    s = now - since\n",
    "    m = math.floor(s / 60)\n",
    "    s -= m * 60\n",
    "    return '%dm %ds' % (m, s)\n",
    "\n"
   ]
  },
  {
   "cell_type": "code",
   "execution_count": 36,
   "metadata": {},
   "outputs": [
    {
     "name": "stdout",
     "output_type": "stream",
     "text": [
      "0m 14s (5000 5%) 2.2051\n",
      "0m 32s (10000 10%) 2.4041\n",
      "0m 46s (15000 15%) 2.7894\n",
      "0m 59s (20000 20%) 2.5509\n",
      "1m 12s (25000 25%) 1.5614\n",
      "1m 26s (30000 30%) 3.0248\n",
      "1m 39s (35000 35%) 2.7963\n",
      "1m 52s (40000 40%) 2.2700\n",
      "2m 6s (45000 45%) 2.1674\n",
      "2m 19s (50000 50%) 3.1239\n",
      "2m 32s (55000 55%) 0.6779\n",
      "2m 52s (60000 60%) 1.8334\n",
      "3m 14s (65000 65%) 2.4767\n",
      "3m 36s (70000 70%) 1.4357\n",
      "3m 59s (75000 75%) 2.3366\n",
      "4m 21s (80000 80%) 2.2647\n",
      "4m 44s (85000 85%) 2.6974\n",
      "5m 6s (90000 90%) 3.5907\n",
      "5m 29s (95000 95%) 2.9580\n",
      "5m 51s (100000 100%) 2.6511\n"
     ]
    }
   ],
   "source": [
    "rnn = RNN(n_letters, 128, n_letters)\n",
    "\n",
    "n_iters = 100000\n",
    "print_every = 5000\n",
    "plot_every = 500\n",
    "all_losses = []\n",
    "total_loss = 0 # Reset every plot_every iters\n",
    "\n",
    "start = time.time()\n",
    "\n",
    "for iter in range(1, n_iters + 1):\n",
    "    output, loss = train(*randomTrainingExample())\n",
    "    total_loss += loss\n",
    "\n",
    "    if iter % print_every == 0:\n",
    "        print('%s (%d %d%%) %.4f' % (timeSince(start), iter, iter / n_iters * 100, loss))\n",
    "\n",
    "    if iter % plot_every == 0:\n",
    "        all_losses.append(total_loss / plot_every)\n",
    "        total_loss = 0\n"
   ]
  },
  {
   "cell_type": "code",
   "execution_count": null,
   "metadata": {},
   "outputs": [],
   "source": [
    "import numpy as np\n",
    "x = np.array([[1,2,3],[4,5,6]])\n",
    "x = torch.tensor(x)\n",
    "\n"
   ]
  },
  {
   "cell_type": "code",
   "execution_count": null,
   "metadata": {},
   "outputs": [],
   "source": [
    "y = torch.tensor([[7,8,9],[10,11,12]])\n",
    "z = torch.cat([x,y],dim = 1)"
   ]
  },
  {
   "cell_type": "code",
   "execution_count": 38,
   "metadata": {},
   "outputs": [
    {
     "data": {
      "image/png": "[encoded data removed]",
      "text/plain": [
       "<Figure size 432x288 with 1 Axes>"
      ]
     },
     "metadata": {
      "needs_background": "light"
     },
     "output_type": "display_data"
    }
   ],
   "source": [
    "import matplotlib.pyplot as plt\n",
    "import matplotlib.ticker as ticker\n",
    "\n",
    "plt.figure()\n",
    "plt.plot(all_losses)\n",
    "plt.show()\n"
   ]
  },
  {
   "cell_type": "code",
   "execution_count": 39,
   "metadata": {},
   "outputs": [],
   "source": [
    "def sample(category,start_letter='A'):\n",
    "    with torch.no_grad():\n",
    "        cat_tensor = categoryTensor(category)\n",
    "        ip = inputTensor(start_letter)\n",
    "        \n",
    "        hidden = rnn.initHidden()\n",
    "        op = start_letter\n",
    "        \n",
    "        for i in range(28):\n",
    "            out,hidden = rnn(cat_tensor,ip[0],hidden)\n",
    "            topv,topi = output.topk(1)\n",
    "            \n",
    "            topi = topi[0][0]\n",
    "            \n",
    "            if topi == n_letters - 1:\n",
    "                break\n",
    "            \n",
    "            else:\n",
    "                letter = all_letters[topi]\n",
    "                op += letter\n",
    "            \n",
    "            ip = inputTensor(letter)\n",
    "        \n",
    "        return op\n",
    "    "
   ]
  },
  {
   "cell_type": "code",
   "execution_count": 40,
   "metadata": {},
   "outputs": [],
   "source": [
    "def samples(category, start_letters='ABC'):\n",
    "    for start_letter in start_letters:\n",
    "        print(sample(category, start_letter))\n"
   ]
  },
  {
   "cell_type": "code",
   "execution_count": 43,
   "metadata": {},
   "outputs": [
    {
     "name": "stdout",
     "output_type": "stream",
     "text": [
      "RDDDDDDDDDDDDDDDDDDDDDDDDDDDD\n",
      "UDDDDDDDDDDDDDDDDDDDDDDDDDDDD\n",
      "SDDDDDDDDDDDDDDDDDDDDDDDDDDDD\n"
     ]
    }
   ],
   "source": [
    "samples('Russian','RUS')"
   ]
  },
  {
   "cell_type": "code",
   "execution_count": null,
   "metadata": {},
   "outputs": [],
   "source": [
    "#LOL needs better modelling"
   ]
  }
 ],
 "metadata": {
  "kernelspec": {
   "display_name": "Python 3",
   "language": "python",
   "name": "python3"
  },
  "language_info": {
   "codemirror_mode": {
    "name": "ipython",
    "version": 3
   },
   "file_extension": ".py",
   "mimetype": "text/x-python",
   "name": "python",
   "nbconvert_exporter": "python",
   "pygments_lexer": "ipython3",
   "version": "3.6.8"
  }
 },
 "nbformat": 4,
 "nbformat_minor": 2
}
